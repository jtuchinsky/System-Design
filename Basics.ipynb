{
 "cells": [
  {
   "cell_type": "markdown",
   "id": "9cfbacd7178a11fe",
   "metadata": {},
   "source": [
    "They are the most critical components to crafting successful software systems.\n",
    "\n",
    "Let’s look at each of them with implementation techniques:\n",
    "\n",
    "1. **Scalability** ensures that your application can handle more load without compromising performance.\n",
    "\n",
    "2. **Availability** makes sure that your application is always ready to serve the users and downtime is minimal.\n",
    "\n",
    "3. **Reliability** Reliability is about building software that consistently delivers correct results.\n",
    "\n",
    "4. **Performance** is the ability of a system to carry out its tasks at an expected rate under peak load using available resources.\n",
    "\n"
   ]
  },
  {
   "metadata": {},
   "cell_type": "markdown",
   "source": "![](Fantastic4_Of_System_Design.png)",
   "id": "d872dc9148b8ff3f"
  },
  {
   "metadata": {
    "ExecuteTime": {
     "end_time": "2024-12-08T15:29:28.990401Z",
     "start_time": "2024-12-08T15:29:28.988929Z"
    }
   },
   "cell_type": "code",
   "source": "",
   "id": "1921be54d6c9b128",
   "outputs": [],
   "execution_count": null
  }
 ],
 "metadata": {
  "kernelspec": {
   "display_name": "Python 3 (ipykernel)",
   "language": "python",
   "name": "python3"
  },
  "language_info": {
   "codemirror_mode": {
    "name": "ipython",
    "version": 3
   },
   "file_extension": ".py",
   "mimetype": "text/x-python",
   "name": "python",
   "nbconvert_exporter": "python",
   "pygments_lexer": "ipython3",
   "version": "3.11.7"
  }
 },
 "nbformat": 4,
 "nbformat_minor": 5
}
