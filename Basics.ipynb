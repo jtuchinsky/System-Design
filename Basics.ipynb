{
 "cells": [
  {
   "cell_type": "markdown",
   "id": "9cfbacd7178a11fe",
   "metadata": {},
   "source": [
    "They are the most critical components to crafting successful software systems.\n",
    "\n",
    "Let’s look at each of them with implementation techniques:\n",
    "\n",
    "1. **Scalability** ensures that your application can handle more load without compromising performance.\n",
    "\n",
    "2. **Availability** makes sure that your application is always ready to serve the users and downtime is minimal.\n",
    "\n",
    "3. **Reliability** Reliability is about building software that consistently delivers correct results.\n",
    "\n",
    "4. **Performance** is the ability of a system to carry out its tasks at an expected rate under peak load using available resources.\n",
    "\n"
   ]
  },
  {
   "metadata": {},
   "cell_type": "markdown",
   "source": "![](Fantastic4_Of_System_Design.png)",
   "id": "d872dc9148b8ff3f"
  },
  {
   "metadata": {},
   "cell_type": "markdown",
   "source": [
    "## Correctness\n",
    "\n",
    "**\"Correctness\"** - definition was coined by Leslie Lamport in “Proving the Correctness of Multiprocess Programs” (https://lamport.azurewebsites.net/pubs/proving.pdf). Lamport defines the correctness of a system in terms of its safety and liveness properties:\n",
    "\n",
    "- **Safety.** Informally, a safety property guarantees that something bad will never happen.\n",
    "- **Liveness.** Informally, a liveness property guarantees that something good will eventually happen.\n",
    "\n",
    "A system is correct if every possible behavior of the system is correct, that is, if every possible behavior meets the system's safety and liveness guarantees"
   ],
   "id": "90a5b1a485605518"
  },
  {
   "metadata": {},
   "cell_type": "markdown",
   "source": [
    "## Scalability and Reliability\n",
    "- **Scalability** of a system is defined as its ability to be __responsive__ in the presence of load.\n",
    "- **Reliability** of a system is defined as its ability to be __responsive__ in the presence of failure.\n",
    "\n",
    "__Responsiveness__\n",
    "\n",
    "- _**Responsiveness**_ is formally defined by these four related concepts:\n",
    "\n",
    "- _**Service Level Indicator.**_ A quantitative observation about the behavior of a system\n",
    "- _**Service Level Objective.**_ A predicate (a function that yields true or false) on a service level indicator that determines whether the behavior of a system meets an objective\n",
    "- _**Error Rate.**_ The ratio of the number of observations that do not meet their objectives to the number of observations in total for a fixed time interval\n",
    "- _**Error Budget.**_ An upper limit on the error rate\n",
    "\n",
    "Based on these factors, we can now define the __responsiveness__ of a system as the ability of the system to keep its __error rate__ below its __error budget.__\n",
    "\n"
   ],
   "id": "48600bf3c0c17e81"
  },
  {
   "metadata": {},
   "cell_type": "markdown",
   "source": [
    "## Why do we need Distributed Systems?\n",
    "We assess the fitness of a system in terms of correctness, scalability, and reliability. In other words, a system shall provide the intended function even in the presence of load and in the presence of failure.\n",
    "\n",
    "A single component can be functional, but a single component can handle neither an infinite amount of load nor a single crash failure. We need more than one component to be functional and scalable and reliable: We need redundancy, that is, duplication and coordination to handle an increased amount of load and an increased amount of failure.\n",
    "\n",
    "__In short, we need a distributed system.__"
   ],
   "id": "bd91478e5550f7af"
  },
  {
   "metadata": {},
   "cell_type": "markdown",
   "source": [
    "## Failures and Failure Tolerance\n",
    "We can define __failure tolerance__ in terms of guaranteeing __safety and liveness properties.__ In the _absence_ of failure, a system always guarantees both its __safety and liveness properties.__ However, in the _presence_ of failure, we may have to compromise.\n",
    "\n",
    "### Types of Failure Tolerance\n",
    "#### Masking failure tolerance\n",
    "If a system guarantees both safety and liveness in the presence of failure, then the system provides __masking failure tolerance.__\n",
    "\n",
    "__Masking failure tolerance__, the most desirable form of failure tolerance, amounts to failure transparency. However, masking failure tolerance may be either too costly to achieve or simply impossible to achieve, forcing us to make choices.\n",
    "\n",
    "#### Non-masking failure tolerance\n",
    "If a system guarantees __liveness__ but does not guarantee __safety__ in the presence of failure, then the system provides __Non-masking failure tolerance.__\n",
    "\n",
    "Informally speaking, the system makes no guarantee not to make any mistakes, but the system does guarantee to make progress.\n",
    "\n",
    "Consider the example of a queue that guarantees fully ordered (first in, first out) message delivery in the absence of failure. However, suppose the queue is non-masking failure tolerant. In that case, it will continue delivering messages in the presence of a failure, but messages may be delivered out of order for the duration of the failure.\n",
    "\n",
    "#### Fail-safe failure tolerance\n",
    "If a system guarantees __safety__ but does not guarantee __liveness__ in the presence of failure, then the system guarantees __Fail-Safe Failure Tolerance.__\n",
    "\n",
    "Informally speaking, the system does guarantee not to make any mistakes, but the system does not guarantee to make progress.\n",
    "\n",
    "Continuing with the previous example, if the queue is fail-safe failure tolerant, it will stop delivering messages in the presence of a failure to prevent messages from being delivered out of order for the duration of the failure.\n",
    "\n",
    "#### None of the above\n",
    "If a system guarantee does not guarantee safety or liveness in the presence of failure, then the system is simply not failure tolerant at all. Arguably in most cases, this is simply not acceptable.\n",
    "\n"
   ],
   "id": "ea61b48317eadafb"
  },
  {
   "metadata": {},
   "cell_type": "markdown",
   "source": [
    "## Message Delivery and Processing\n",
    "![](Request-Response.png)\n",
    "\n",
    "**Message Delivery**\n",
    "\n",
    "| Message Delivery | On The Receiver Side |\n",
    "|:---|:---|\n",
    "| At-most once     | The network delivers the message zero or one time.  |\n",
    "| At-least once    | The network delivers the message one or more times. |\n",
    "| Exactly once     | The network delivers the message once.              |\n",
    "\n",
    "\n",
    "\n",
    "\n",
    "**Message Processing**\n",
    "\n",
    "| Message Processing | On The Receiver Side |\n",
    "|:---|:---|\n",
    "| At-most once | The receiver processes the message zero or one time |\n",
    "| At-least once | The receiver processes the message one or more times\n",
    "| Exactly once processing | The receiver processes the message once\n",
    "\n",
    "\n"
   ],
   "id": "f2511e71608b5597"
  },
  {
   "metadata": {},
   "cell_type": "markdown",
   "source": "",
   "id": "3112acb7225b781f"
  }
 ],
 "metadata": {
  "kernelspec": {
   "display_name": "Python 3 (ipykernel)",
   "language": "python",
   "name": "python3"
  },
  "language_info": {
   "codemirror_mode": {
    "name": "ipython",
    "version": 3
   },
   "file_extension": ".py",
   "mimetype": "text/x-python",
   "name": "python",
   "nbconvert_exporter": "python",
   "pygments_lexer": "ipython3",
   "version": "3.11.7"
  }
 },
 "nbformat": 4,
 "nbformat_minor": 5
}
